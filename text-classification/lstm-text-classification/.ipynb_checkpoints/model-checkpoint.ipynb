{
 "cells": [
  {
   "cell_type": "code",
   "execution_count": null,
   "metadata": {},
   "outputs": [],
   "source": [
    "import torch\n",
    "from torch import optim, nn\n",
    "from const import *\n",
    "\n",
    "class LayerNorm(nn.Module):\n",
    "    def __init__(self, hidden_size, eps=1e-6):\n",
    "        super(LayerNorm, self).__init__()\n",
    "        self.eps = eps\n",
    "        self.weight = nn.Parameter(torch.ones(hidden_size))\n",
    "        self.bias = nn.Parameter(torch.zeros(hidden_size))\n",
    "        \n",
    "    def forward(self, input):\n",
    "        mu = torch.mean(input, dim=-1, keepdim=True)\n",
    "        sigma = torch.std(input, dim=-1, keepdim=True).clamp(self.eps)\n",
    "        output = (input - mu) / sigma\n",
    "        return output * self.weight.expand_as(output) + self.bias.expand_as(output)\n",
    "    \n",
    "class LSTM_Text(nn.Module):\n",
    "    def __init__(self, args):\n",
    "        super(LSTM_Text, self).__init__()\n",
    "        for k, v in args.__dict__.items():\n",
    "            self.__setattr__(k, v)\n",
    "        self.num_directions = 2 if self.bidirectional else 1\n",
    "        self.lookup_table = nn.Embedding(self.vocab_size, self.embed_size, padding_idx=PAD)\n",
    "        self.lstm = nn.LSTM(self.embed_size, self.hidden_size, self.num_layers, dropout=self.dropout, bidirectional=self.bidirectional)\n",
    "        self.ln = LayerNorm(self.hidden_size * self.num_directions)\n",
    "        self.fc = nn.Linear(self.hidden_size * self.num_directions, self.label_size)\n",
    "        self.init_weight()\n",
    "        \n",
    "    def init_weight(self, scope=1.0):\n",
    "        self.lookup_table.weight.data.uniform_(-scope, scope)\n",
    "        self.fc.weight.data.uniform_(-scope, scope)\n",
    "        self.fc.bias.data.fill_(0)\n",
    "        \n",
    "    def init_hidden(self):\n",
    "        layers = self.num_layers * self.num_directions\n",
    "        parameters = next(self.parameters()).data\n",
    "        return (Variable(parameters.new(layers, self.batch_size, self.hidden_size).zero_()), Variable(parameters.new(layers, self.batch_size, self.hidden_size).zero_()))\n",
    "    \n",
    "    def forward(self, x, hidden):\n",
    "        x = self.lookup_table(x)\n",
    "        out, hidden = self.lstm(x.transpose(0, 1), hidden)\n",
    "        out = self.ln(out)[-1]\n",
    "        return self.fc(out), hidden"
   ]
  },
  {
   "cell_type": "code",
   "execution_count": 1,
   "metadata": {},
   "outputs": [],
   "source": [
    "import torch\n",
    "from torch import optim, nn"
   ]
  },
  {
   "cell_type": "code",
   "execution_count": null,
   "metadata": {},
   "outputs": [],
   "source": []
  }
 ],
 "metadata": {
  "kernelspec": {
   "display_name": "Python 3",
   "language": "python",
   "name": "python3"
  },
  "language_info": {
   "codemirror_mode": {
    "name": "ipython",
    "version": 3
   },
   "file_extension": ".py",
   "mimetype": "text/x-python",
   "name": "python",
   "nbconvert_exporter": "python",
   "pygments_lexer": "ipython3",
   "version": "3.7.3"
  }
 },
 "nbformat": 4,
 "nbformat_minor": 2
}
