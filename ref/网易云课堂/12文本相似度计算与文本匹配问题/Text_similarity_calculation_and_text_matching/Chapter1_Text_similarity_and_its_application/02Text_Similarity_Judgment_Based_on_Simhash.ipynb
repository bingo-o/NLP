{
 "cells": [
  {
   "cell_type": "markdown",
   "metadata": {},
   "source": [
    "![](./img/NLP_banner.jpg)"
   ]
  },
  {
   "cell_type": "markdown",
   "metadata": {},
   "source": [
    "## Jaccard Similarity\n",
    "#### [稀牛学院 x 网易云课程]《AI工程师(自然语言处理方向)》课程资料  by 褚则伟(zeweichu@gmail.com)"
   ]
  },
  {
   "cell_type": "code",
   "execution_count": 1,
   "metadata": {},
   "outputs": [
    {
     "name": "stdout",
     "output_type": "stream",
     "text": [
      "8\n",
      "11\n",
      "2\n",
      "{'processing', 'language'}\n",
      "0.11764705882352941\n"
     ]
    }
   ],
   "source": [
    "def jaccard_sim(s1, s2):\n",
    "    a = set(s1.split()) \n",
    "    print(len(a))\n",
    "    b = set(s2.split()) \n",
    "    print(len(b))\n",
    "    c = a.intersection(b)\n",
    "    print(len(c))\n",
    "    print(c)\n",
    "    return float(len(c)) / (len(a) + len(b) - len(c))\n",
    "\n",
    "s1 = \"Natural language processing is a promising research area\"\n",
    "s2 = \"More and more researchers are working on natural language processing nowadays\"\n",
    "print(jaccard_sim(s1, s2))"
   ]
  },
  {
   "cell_type": "markdown",
   "metadata": {},
   "source": [
    "# 基于simhash的相似文本判断\n",
    "#### [稀牛学院 x 网易云课程]《AI工程师(自然语言处理方向)》课程资料 by 褚则伟(zeweichu@gmail.com)"
   ]
  },
  {
   "cell_type": "markdown",
   "metadata": {},
   "source": [
    "## SimHash"
   ]
  },
  {
   "cell_type": "markdown",
   "metadata": {},
   "source": [
    "Reference: [A Python Implementation of simhash algorithm](https://leons.im/posts/a-python-implementation-of-simhash-algorithm/)"
   ]
  },
  {
   "cell_type": "markdown",
   "metadata": {},
   "source": [
    "- 选择一个hashsize，例如32\n",
    "    - V = [0] * 32\n",
    "- 把一段text变成features (shingles)\n",
    "    - howareyouiamfinethanks\n",
    "    - ['how', 'owa', 'war', 'are', 'rey', 'eyo', 'you', 'oui', 'uia', 'iam', 'amf', 'mfi', 'fin', 'ine', 'net', 'eth', 'tha', 'han', 'ank', 'nks’]\n",
    "- 把每个feature都hash成32位\n",
    "- 对于每个hash的每个位置，如果位置上是1就把V[i]加1，如果不是就把V[i]减1\n",
    "- 最后，如果V[i]>0就设为1，否则设为0，得到的V就是我们想要的simhash\n"
   ]
  },
  {
   "cell_type": "code",
   "execution_count": 2,
   "metadata": {
    "collapsed": true
   },
   "outputs": [],
   "source": [
    "# Created by 1e0n in 2013\n",
    "from __future__ import division, unicode_literals\n",
    "\n",
    "import re\n",
    "import sys\n",
    "import hashlib\n",
    "import logging\n",
    "import numbers\n",
    "import collections\n",
    "from itertools import groupby\n",
    "\n",
    "if sys.version_info[0] >= 3:\n",
    "    basestring = str\n",
    "    unicode = str\n",
    "    long = int\n",
    "else:\n",
    "    range = xrange\n",
    "\n",
    "\n",
    "def _hashfunc(x): # 使用的hash函数\n",
    "    return int(hashlib.md5(x).hexdigest(), 16)\n",
    "\n",
    "\n",
    "class Simhash(object):\n",
    "\n",
    "    def __init__(\n",
    "        self, value, f=64, reg=r'[\\w\\u4e00-\\u9fcc]+', hashfunc=None, log=None\n",
    "    ):\n",
    "        \"\"\"\n",
    "        `f` is the dimensions of fingerprints\n",
    "\n",
    "        `reg` is meaningful only when `value` is basestring and describes\n",
    "        what is considered to be a letter inside parsed string. Regexp\n",
    "        object can also be specified (some attempt to handle any letters\n",
    "        is to specify reg=re.compile(r'\\w', re.UNICODE))\n",
    "\n",
    "        `hashfunc` accepts a utf-8 encoded string and returns a unsigned\n",
    "        integer in at least `f` bits.\n",
    "        \"\"\"\n",
    "\n",
    "        self.f = f\n",
    "        self.reg = reg\n",
    "        self.value = None\n",
    "\n",
    "        if hashfunc is None:\n",
    "            self.hashfunc = _hashfunc\n",
    "        else:\n",
    "            self.hashfunc = hashfunc\n",
    "\n",
    "        if log is None:\n",
    "            self.log = logging.getLogger(\"simhash\")\n",
    "        else:\n",
    "            self.log = log\n",
    "\n",
    "\n",
    "        if isinstance(value, Simhash):\n",
    "            self.value = value.value\n",
    "        elif isinstance(value, basestring):\n",
    "#             print(\"build by text\")\n",
    "            self.build_by_text(unicode(value))\n",
    "        elif isinstance(value, collections.Iterable):\n",
    "            self.build_by_features(value)\n",
    "        elif isinstance(value, numbers.Integral):\n",
    "            self.value = value\n",
    "        else:\n",
    "            raise Exception('Bad parameter with type {}'.format(type(value)))\n",
    "\n",
    "    def __eq__(self, other):\n",
    "        \"\"\"\n",
    "        Compare two simhashes by their value.\n",
    "\n",
    "        :param Simhash other: The Simhash object to compare to\n",
    "        \"\"\"\n",
    "        return self.value == other.value\n",
    "\n",
    "    def _slide(self, content, width=4):\n",
    "        return [content[i:i + width] for i in range(max(len(content) - width + 1, 1))]\n",
    "\n",
    "    def _tokenize(self, content):\n",
    "        content = content.lower()\n",
    "        content = ''.join(re.findall(self.reg, content))\n",
    "        ans = self._slide(content)\n",
    "        return ans\n",
    "\n",
    "    def build_by_text(self, content):\n",
    "        features = self._tokenize(content)\n",
    "        features = {k:sum(1 for _ in g) for k, g in groupby(sorted(features))}\n",
    "        return self.build_by_features(features)\n",
    "\n",
    "    def build_by_features(self, features):\n",
    "        \"\"\"\n",
    "        `features` might be a list of unweighted tokens (a weight of 1\n",
    "                   will be assumed), a list of (token, weight) tuples or\n",
    "                   a token -> weight dict.\n",
    "        \"\"\"\n",
    "        v = [0] * self.f # 初始化 [0,0,0,...]\n",
    "        masks = [1 << i for i in range(self.f)] # [1, 10, 100, 1000...]\n",
    "        if isinstance(features, dict):\n",
    "            features = features.items()\n",
    "        for f in features: \n",
    "            if isinstance(f, basestring):\n",
    "                h = self.hashfunc(f.encode('utf-8')) # hash成32位\n",
    "                w = 1\n",
    "            else:\n",
    "                assert isinstance(f, collections.Iterable)\n",
    "                h = self.hashfunc(f[0].encode('utf-8'))\n",
    "                w = f[1]\n",
    "            for i in range(self.f):\n",
    "                v[i] += w if h & masks[i] else -w\n",
    "        ans = 0\n",
    "        for i in range(self.f): # 计算结果\n",
    "            if v[i] > 0: # 如果大于0，就把那一位变成1\n",
    "                ans |= masks[i] \n",
    "        self.value = ans\n",
    "\n",
    "    def distance(self, another):\n",
    "        assert self.f == another.f\n",
    "        x = (self.value ^ another.value) & ((1 << self.f) - 1) # XOR\n",
    "        ans = 0\n",
    "        while x:\n",
    "            ans += 1\n",
    "            x &= x - 1\n",
    "        return ans\n"
   ]
  },
  {
   "cell_type": "code",
   "execution_count": 3,
   "metadata": {
    "scrolled": true
   },
   "outputs": [
    {
     "data": {
      "text/plain": [
       "1"
      ]
     },
     "execution_count": 3,
     "metadata": {},
     "output_type": "execute_result"
    }
   ],
   "source": [
    "x = 4\n",
    "ans = 0\n",
    "while x:\n",
    "    ans += 1\n",
    "    x &= x - 1\n",
    "ans"
   ]
  },
  {
   "cell_type": "code",
   "execution_count": 4,
   "metadata": {},
   "outputs": [
    {
     "data": {
      "text/plain": [
       "6"
      ]
     },
     "execution_count": 4,
     "metadata": {},
     "output_type": "execute_result"
    }
   ],
   "source": [
    "x = 7\n",
    "x &= x-1\n",
    "x"
   ]
  },
  {
   "cell_type": "code",
   "execution_count": 5,
   "metadata": {
    "scrolled": true
   },
   "outputs": [
    {
     "data": {
      "text/plain": [
       "0"
      ]
     },
     "execution_count": 5,
     "metadata": {},
     "output_type": "execute_result"
    }
   ],
   "source": [
    "3 & 4"
   ]
  },
  {
   "cell_type": "code",
   "execution_count": 10,
   "metadata": {},
   "outputs": [
    {
     "name": "stdout",
     "output_type": "stream",
     "text": [
      "0x4d4da690b5a57e47\n",
      "0x69deac90b5a15eeb\n",
      "0x4f08a4f4b5a13a4b\n"
     ]
    }
   ],
   "source": [
    "def get_features(s):\n",
    "    width = 3\n",
    "    s = s.lower()\n",
    "    s = re.sub(r'[^\\w]+', '', s)\n",
    "    return [s[i:i+width] for i in range(max(len(s) - width + 1, 1))]\n",
    "\n",
    "print(hex(Simhash(get_features(\"How are you? I am fine. Thanks. \")).value))\n",
    "print(hex(Simhash(get_features(\"How are u? I am fine.       Thanks. \")).value))\n",
    "print(hex(Simhash(get_features(\"How r you? I      am fine. Thanks. \")).value))"
   ]
  },
  {
   "cell_type": "code",
   "execution_count": 7,
   "metadata": {},
   "outputs": [
    {
     "name": "stdout",
     "output_type": "stream",
     "text": [
      "31\n",
      "0\n"
     ]
    }
   ],
   "source": [
    "print(Simhash('aa').distance(Simhash('bb')))\n",
    "print(Simhash('aa').distance(Simhash('aa')))"
   ]
  },
  {
   "cell_type": "markdown",
   "metadata": {},
   "source": [
    "## Simhash Index"
   ]
  },
  {
   "cell_type": "code",
   "execution_count": 8,
   "metadata": {
    "collapsed": true
   },
   "outputs": [],
   "source": [
    "class SimhashIndex(object):\n",
    "\n",
    "    def __init__(self, objs, f=64, k=2, log=None):\n",
    "        \"\"\"\n",
    "        `objs` is a list of (obj_id, simhash)\n",
    "        obj_id is a string, simhash is an instance of Simhash\n",
    "        `f` is the same with the one for Simhash\n",
    "        `k` is the tolerance\n",
    "        \"\"\"\n",
    "        self.k = k\n",
    "        self.f = f\n",
    "        count = len(objs)\n",
    "\n",
    "        if log is None:\n",
    "            self.log = logging.getLogger(\"simhash\")\n",
    "        else:\n",
    "            self.log = log\n",
    "\n",
    "        self.log.info('Initializing %s data.', count)\n",
    "\n",
    "        self.bucket = collections.defaultdict(set)\n",
    "\n",
    "        for i, q in enumerate(objs):\n",
    "            if i % 10000 == 0 or i == count - 1:\n",
    "                self.log.info('%s/%s', i + 1, count)\n",
    "\n",
    "            self.add(*q)\n",
    "\n",
    "    def get_near_dups(self, simhash):\n",
    "        \"\"\"\n",
    "        `simhash` is an instance of Simhash\n",
    "        return a list of obj_id, which is in type of str\n",
    "        \"\"\"\n",
    "        assert simhash.f == self.f\n",
    "\n",
    "        ans = set()\n",
    "\n",
    "        for key in self.get_keys(simhash):\n",
    "            dups = self.bucket[key]\n",
    "            self.log.debug('key:%s', key)\n",
    "            if len(dups) > 200:\n",
    "                self.log.warning('Big bucket found. key:%s, len:%s', key, len(dups))\n",
    "\n",
    "            for dup in dups:\n",
    "                sim2, obj_id = dup.split(',', 1)\n",
    "                sim2 = Simhash(long(sim2, 16), self.f)\n",
    "\n",
    "                d = simhash.distance(sim2)\n",
    "                if d <= self.k:\n",
    "                    ans.add(obj_id)\n",
    "        return list(ans)\n",
    "\n",
    "    def add(self, obj_id, simhash):\n",
    "        \"\"\"\n",
    "        `obj_id` is a string\n",
    "        `simhash` is an instance of Simhash\n",
    "        \"\"\"\n",
    "        assert simhash.f == self.f\n",
    "\n",
    "        for key in self.get_keys(simhash):\n",
    "            v = '%x,%s' % (simhash.value, obj_id)\n",
    "            self.bucket[key].add(v)\n",
    "\n",
    "    def delete(self, obj_id, simhash):\n",
    "        \"\"\"\n",
    "        `obj_id` is a string\n",
    "        `simhash` is an instance of Simhash\n",
    "        \"\"\"\n",
    "        assert simhash.f == self.f\n",
    "\n",
    "        for key in self.get_keys(simhash):\n",
    "            v = '%x,%s' % (simhash.value, obj_id)\n",
    "            if v in self.bucket[key]:\n",
    "                self.bucket[key].remove(v)\n",
    "\n",
    "    @property\n",
    "    def offsets(self):\n",
    "        \"\"\"\n",
    "        You may optimize this method according to <http://www.wwwconference.org/www2007/papers/paper215.pdf>\n",
    "        \"\"\"\n",
    "        return [self.f // (self.k + 1) * i for i in range(self.k + 1)]\n",
    "\n",
    "    def get_keys(self, simhash):\n",
    "        for i, offset in enumerate(self.offsets):\n",
    "            if i == (len(self.offsets) - 1):\n",
    "                m = 2 ** (self.f - offset) - 1\n",
    "            else:\n",
    "                m = 2 ** (self.offsets[i + 1] - offset) - 1\n",
    "            c = simhash.value >> offset & m\n",
    "            yield '%x:%x' % (c, i)\n",
    "\n",
    "    def bucket_size(self):\n",
    "        return len(self.bucket)\n"
   ]
  },
  {
   "cell_type": "code",
   "execution_count": 9,
   "metadata": {},
   "outputs": [
    {
     "name": "stdout",
     "output_type": "stream",
     "text": [
      "8\n",
      "['1', '2']\n",
      "['1', '4', '2']\n"
     ]
    }
   ],
   "source": [
    "data = {\n",
    "    1: u'How are you? I am fine. blar blar blar blar blar Thanks.', \n",
    "    2: u'How are you i am fine. blar blar blar blar blar Thanks.', \n",
    "    3: u'This is a simhash test', \n",
    "}\n",
    "\n",
    "objs = [(str(k), Simhash(get_features(v))) for k, v in data.items()]\n",
    "index = SimhashIndex(objs, k=3)\n",
    "\n",
    "print(index.bucket_size())\n",
    "s1 = Simhash(get_features(u'How are you i am fine. blar blar blar blar blar thanks'))\n",
    "print(index.get_near_dups(s1))\n",
    "\n",
    "index.add('4', s1)\n",
    "print(index.get_near_dups(s1))"
   ]
  },
  {
   "cell_type": "markdown",
   "metadata": {},
   "source": [
    "## 版权归 © 稀牛学院 所有 保留所有权利\n",
    "![](./img/xiniu_neteasy.png)"
   ]
  }
 ],
 "metadata": {
  "kernelspec": {
   "display_name": "Python 3",
   "language": "python",
   "name": "python3"
  },
  "language_info": {
   "codemirror_mode": {
    "name": "ipython",
    "version": 3
   },
   "file_extension": ".py",
   "mimetype": "text/x-python",
   "name": "python",
   "nbconvert_exporter": "python",
   "pygments_lexer": "ipython3",
   "version": "3.6.1"
  }
 },
 "nbformat": 4,
 "nbformat_minor": 2
}
